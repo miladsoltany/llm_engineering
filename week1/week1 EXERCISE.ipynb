{
 "cells": [
  {
   "cell_type": "markdown",
   "id": "fe12c203-e6a6-452c-a655-afb8a03a4ff5",
   "metadata": {},
   "source": [
    "# End of week 1 exercise\n",
    "\n",
    "To demonstrate your familiarity with OpenAI API, and also Ollama, build a tool that takes a technical question,  \n",
    "and responds with an explanation. This is a tool that you will be able to use yourself during the course!"
   ]
  },
  {
   "cell_type": "code",
   "execution_count": 1,
   "id": "c1070317-3ed9-4659-abe3-828943230e03",
   "metadata": {},
   "outputs": [],
   "source": [
    "# imports\n",
    "import os\n",
    "import requests\n",
    "import json\n",
    "from typing import List\n",
    "from dotenv import load_dotenv\n",
    "from bs4 import BeautifulSoup\n",
    "from IPython.display import Markdown, display, update_display\n",
    "from openai import OpenAI"
   ]
  },
  {
   "cell_type": "code",
   "execution_count": 2,
   "id": "0c37851b",
   "metadata": {},
   "outputs": [
    {
     "name": "stdout",
     "output_type": "stream",
     "text": [
      "API key looks good so far\n"
     ]
    }
   ],
   "source": [
    "# Initialize and constants\n",
    "\n",
    "MODEL = 'gpt-4o-mini'\n",
    "openai = OpenAI()"
   ]
  },
  {
   "cell_type": "code",
   "execution_count": 3,
   "id": "4a456906-915a-4bfd-bb9d-57e505c5093f",
   "metadata": {},
   "outputs": [],
   "source": [
    "# constants\n",
    "\n",
    "MODEL_GPT = 'gpt-4o-mini'\n",
    "MODEL_LLAMA = 'llama3.2'"
   ]
  },
  {
   "cell_type": "code",
   "execution_count": 4,
   "id": "a8d7923c-5f28-4c30-8556-342d7c8497c1",
   "metadata": {},
   "outputs": [],
   "source": [
    "# set up environment\n",
    "load_dotenv()\n",
    "api_key = os.getenv('OPENAI_API_KEY')"
   ]
  },
  {
   "cell_type": "code",
   "execution_count": 60,
   "id": "3f0d0137-52b0-47a8-81a8-11a90a010798",
   "metadata": {},
   "outputs": [],
   "source": [
    "# here is the question; type over this to ask something new\n",
    "\n",
    "question = \"\"\"\n",
    "Please explain what this code does and why:\n",
    "yield from {book.get(\"author\") for book in books if book.get(\"author\")}\n",
    "\"\"\"\n",
    "\n",
    "question = \"\"\"\n",
    "Why can't countries just print more money to pay off their debts?\n",
    "\"\"\""
   ]
  },
  {
   "cell_type": "code",
   "execution_count": 61,
   "id": "792443ac",
   "metadata": {},
   "outputs": [],
   "source": [
    "#prompts and messages\n",
    "\n",
    "system_prompt = \"You are are a technical tutur who answers students' questions about code, maths and physics. \\\n",
    "    including the answer to the question, the code output and the explanation of the code. The code should be in python, the maths should be in \\\n",
    "        latex and the physics should be in plain text. The complete response should be in Markdown format.\"\n",
    "user_prompt = f\"Please explain the answer to the following question: {question}\"\n",
    "\n",
    "messages = [\n",
    "    {\"role\": \"system\", \"content\": system_prompt},\n",
    "    {\"role\": \"user\", \"content\": user_prompt}\n",
    "    \n",
    "]\n",
    "\n",
    "\n",
    "\n",
    "# Get gpt-4o-mini to answer, with streaming\n",
    "\n",
    "stream = openai.chat.completions.create(\n",
    "        model=MODEL_GPT,\n",
    "        messages=[\n",
    "            {\"role\": \"system\", \"content\": system_prompt},\n",
    "            {\"role\": \"user\", \"content\": user_prompt}\n",
    "      ],\n",
    "        stream = True\n",
    "        # response_format={\"type\": \"json_object\"}\n",
    ")"
   ]
  },
  {
   "cell_type": "code",
   "execution_count": 62,
   "id": "60ce7000-a4a5-4cce-a261-e75ef45063b4",
   "metadata": {},
   "outputs": [
    {
     "data": {
      "text/markdown": [
       "Printing more money to pay off debts may seem like a straightforward solution, but it can lead to severe economic consequences. Here are several key points to consider:\n",
       "\n",
       "### Inflation\n",
       "When a country prints more money without backing it with a corresponding increase in goods and services, it can create inflation. Inflation occurs when there is too much money in circulation and not enough goods available to buy. As a result, the purchasing power of the currency falls, meaning that each unit of currency buys fewer goods and services than before.\n",
       "\n",
       "### Hyperinflation\n",
       "In extreme cases, excessive money printing can lead to hyperinflation. This is a situation where inflation rates soar uncontrollably, often exceeding 50% per month. Historical examples include Zimbabwe in the late 2000s and Germany during the Weimar Republic, where currencies became nearly worthless, leading to economic collapse and social unrest.\n",
       "\n",
       "### Loss of Credibility\n",
       "When a government resorts to printing money to pay off debts, it can diminish the trust that investors and foreign countries have in that government's financial management. This loss of credibility can lead to higher interest rates on borrowing, as lenders demand a premium for the increased risk associated with lending to that country.\n",
       "\n",
       "### Currency Devaluation\n",
       "Increased money supply can lead to a devaluation of the currency in the foreign exchange markets. A weaker currency means that imports become more expensive, which can exacerbate inflation and lead to more economic instability.\n",
       "\n",
       "### Debt Servicing Costs\n",
       "If a country prints money to pay off debt, the immediate pressure might seem alleviated, but the long-term debt obligations remain. Additionally, if inflation results from printing more money, the real value of the debt does decrease, but the costs associated with servicing this debt might increase if interest rates rise due to the country’s loss of credibility.\n",
       "\n",
       "### Conclusion\n",
       "In summary, while the idea of printing more money to eliminate debt may appear attractive in the short term, the potential for inflation, loss of credibility, currency devaluation, and marked economic instability makes this a risky and often detrimental strategy. Instead, countries typically pursue policies that foster economic growth and responsible fiscal management to handle their debt issues."
      ],
      "text/plain": [
       "<IPython.core.display.Markdown object>"
      ]
     },
     "metadata": {},
     "output_type": "display_data"
    }
   ],
   "source": [
    "# Get gpt-4o-mini to answer, with streaming\n",
    "    \n",
    "response = \"\"\n",
    "display_handle = display(Markdown(\"\"), display_id=True)\n",
    "for chunk in stream:\n",
    "    response += chunk.choices[0].delta.content or ''\n",
    "    response = response.replace(\"```\",\"\").replace(\"markdown\", \"\")\n",
    "    update_display(Markdown(response), display_id=display_handle.display_id)"
   ]
  },
  {
   "cell_type": "code",
   "execution_count": 63,
   "id": "8f7c8ea8-4082-4ad0-8751-3301adcf6538",
   "metadata": {},
   "outputs": [
    {
     "data": {
      "text/markdown": [
       "**Answer**\n",
       "=====================================\n",
       "\n",
       "Countries cannot simply print more money to pay off their debts because of the fundamental nature of currency and the consequences of such an action. When a country prints more money, it is essentially increasing the supply of its own currency in circulation. This can lead to several problems.\n",
       "\n",
       "### Inflation\n",
       "-----------------\n",
       "\n",
       "When there's more money circulating in an economy, the value of each individual unit of currency decreases. In other words, inflation rises. Imagine you had $100 last year, but now that same $100 can buy only 80% of what it could before. That's essentially what happens when a country prints more money.\n",
       "\n",
       "```latex\n",
       "P = P_0 \\times (1 + \\inflation\\_rate)\n",
       "```\n",
       "\n",
       "Where `P` is the new price level, `P_0` is the initial price level, and `\\inflation\\_rate` is the rate at which prices are increasing.\n",
       "\n",
       "For example, if a country prints an additional $1 billion in money, and that amount causes inflation to rise by 2%, then the value of each unit of currency will decrease by 2%.\n",
       "\n",
       "### Devaluation of Currency\n",
       "-------------------------\n",
       "\n",
       "When a country's currency becomes less valuable due to excessive money printing, it can become harder for foreign countries to trade with them. This can lead to a situation where other countries no longer want to buy that country's goods and services, which can negatively impact the economy.\n",
       "\n",
       "```latex\n",
       " Exchange\\_rate = \\frac{Currency_{country}}{Currency_{other\\_country}}\n",
       "```\n",
       "\n",
       "For instance, if a country's currency depreciates by 10% due to excessive money printing, it becomes harder for them to import goods from other countries.\n",
       "\n",
       "### Hyperinflation\n",
       "------------------\n",
       "\n",
       "In extreme cases, when a country prints an enormous amount of money relative to its economy, it can lead to hyperinflation. This is when the value of money drops so rapidly that it's no longer possible to use the currency as a medium of exchange. In such situations, goods and services are often priced in other currencies or commodities.\n",
       "\n",
       "### Consequences\n",
       "-----------------\n",
       "\n",
       "Printing more money to pay off debts can lead to a range of negative consequences, including:\n",
       "\n",
       "*   Loss of trust in the currency\n",
       "*   Decrease in economic growth\n",
       "*   Increase in poverty\n",
       "*   Social unrest\n",
       "\n",
       "```latex\n",
       "\\frac{\\Delta M}{M} = \\inflation\\_rate\n",
       "```\n",
       "\n",
       "Where `\\Delta M` is the change in money supply, `M` is the money supply, and `\\inflation\\_rate` is the rate at which prices are increasing.\n",
       "\n",
       "In conclusion, while it may seem like printing more money could solve a country's debt problems, it can actually lead to a range of negative consequences that can have long-lasting impacts on the economy and society as a whole."
      ],
      "text/plain": [
       "<IPython.core.display.Markdown object>"
      ]
     },
     "execution_count": 63,
     "metadata": {},
     "output_type": "execute_result"
    }
   ],
   "source": [
    "# Get Llama 3.2 to answer\n",
    "import ollama\n",
    "response = ollama.chat(model=MODEL_LLAMA, messages=messages, stream = False)\n",
    "Markdown(response['message']['content'])"
   ]
  },
  {
   "cell_type": "code",
   "execution_count": 54,
   "id": "525fb1c6",
   "metadata": {},
   "outputs": [],
   "source": [
    "chunk.get('choices')"
   ]
  },
  {
   "cell_type": "code",
   "execution_count": null,
   "id": "2543c7e3",
   "metadata": {},
   "outputs": [],
   "source": []
  }
 ],
 "metadata": {
  "kernelspec": {
   "display_name": "llms2",
   "language": "python",
   "name": "python3"
  },
  "language_info": {
   "codemirror_mode": {
    "name": "ipython",
    "version": 3
   },
   "file_extension": ".py",
   "mimetype": "text/x-python",
   "name": "python",
   "nbconvert_exporter": "python",
   "pygments_lexer": "ipython3",
   "version": "3.11.11"
  }
 },
 "nbformat": 4,
 "nbformat_minor": 5
}
