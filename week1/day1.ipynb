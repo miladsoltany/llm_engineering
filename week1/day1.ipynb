{
 "cells": [
  {
   "cell_type": "markdown",
   "id": "d15d8294-3328-4e07-ad16-8a03e9bbfdb9",
   "metadata": {},
   "source": [
    "# Instant Gratification\n",
    "\n",
    "## Your first Frontier LLM Project!\n",
    "\n",
    "Let's build a useful LLM solution - in a matter of minutes.\n",
    "\n",
    "By the end of this course, you will have built an autonomous Agentic AI solution with 7 agents that collaborate to solve a business problem. All in good time! We will start with something smaller...\n",
    "\n",
    "Our goal is to code a new kind of Web Browser. Give it a URL, and it will respond with a summary. The Reader's Digest of the internet!!\n",
    "\n",
    "Before starting, you should have completed the setup for [PC](../SETUP-PC.md) or [Mac](../SETUP-mac.md) and you hopefully launched this jupyter lab from within the project root directory, with your environment activated.\n",
    "\n",
    "## If you're new to Jupyter Lab\n",
    "\n",
    "Welcome to the wonderful world of Data Science experimentation! Once you've used Jupyter Lab, you'll wonder how you ever lived without it. Simply click in each \"cell\" with code in it, such as the cell immediately below this text, and hit Shift+Return to execute that cell. As you wish, you can add a cell with the + button in the toolbar, and print values of variables, or try out variations.  \n",
    "\n",
    "I've written a notebook called [Guide to Jupyter](Guide%20to%20Jupyter.ipynb) to help you get more familiar with Jupyter Labs, including adding Markdown comments, using `!` to run shell commands, and `tqdm` to show progress.\n",
    "\n",
    "If you prefer to work in IDEs like VSCode or Pycharm, they both work great with these lab notebooks too.  \n",
    "\n",
    "## If you'd like to brush up your Python\n",
    "\n",
    "I've added a notebook called [Intermediate Python](Intermediate%20Python.ipynb) to get you up to speed. But you should give it a miss if you already have a good idea what this code does:    \n",
    "`yield from {book.get(\"author\") for book in books if book.get(\"author\")}`\n",
    "\n",
    "## I am here to help\n",
    "\n",
    "If you have any problems at all, please do reach out.  \n",
    "I'm available through the platform, or at ed@edwarddonner.com, or at https://www.linkedin.com/in/eddonner/ if you'd like to connect (and I love connecting!)\n",
    "\n",
    "## More troubleshooting\n",
    "\n",
    "Please see the [troubleshooting](troubleshooting.ipynb) notebook in this folder to diagnose and fix common problems. At the very end of it is a diagnostics script with some useful debug info.\n",
    "\n",
    "## If this is old hat!\n",
    "\n",
    "If you're already comfortable with today's material, please hang in there; you can move swiftly through the first few labs - we will get much more in depth as the weeks progress.\n",
    "\n",
    "<table style=\"margin: 0; text-align: left;\">\n",
    "    <tr>\n",
    "        <td style=\"width: 150px; height: 150px; vertical-align: middle;\">\n",
    "            <img src=\"../important.jpg\" width=\"150\" height=\"150\" style=\"display: block;\" />\n",
    "        </td>\n",
    "        <td>\n",
    "            <h2 style=\"color:#900;\">Please read - important note</h2>\n",
    "            <span style=\"color:#900;\">The way I collaborate with you may be different to other courses you've taken. I prefer not to type code while you watch. Rather, I execute Jupyter Labs, like this, and give you an intuition for what's going on. My suggestion is that you do this with me, either at the same time, or (perhaps better) right afterwards. Add print statements to understand what's going on, and then come up with your own variations. If you have a Github account, use this to showcase your variations. Not only is this essential practice, but it demonstrates your skills to others, including perhaps future clients or employers...</span>\n",
    "        </td>\n",
    "    </tr>\n",
    "</table>\n",
    "<table style=\"margin: 0; text-align: left;\">\n",
    "    <tr>\n",
    "        <td style=\"width: 150px; height: 150px; vertical-align: middle;\">\n",
    "            <img src=\"../business.jpg\" width=\"150\" height=\"150\" style=\"display: block;\" />\n",
    "        </td>\n",
    "        <td>\n",
    "            <h2 style=\"color:#181;\">Business value of these exercises</h2>\n",
    "            <span style=\"color:#181;\">A final thought. While I've designed these notebooks to be educational, I've also tried to make them enjoyable. We'll do fun things like have LLMs tell jokes and argue with each other. But fundamentally, my goal is to teach skills you can apply in business. I'll explain business implications as we go, and it's worth keeping this in mind: as you build experience with models and techniques, think of ways you could put this into action at work today. Please do contact me if you'd like to discuss more or if you have ideas to bounce off me.</span>\n",
    "        </td>\n",
    "    </tr>\n",
    "</table>"
   ]
  },
  {
   "cell_type": "code",
   "execution_count": 1,
   "id": "4e2a9393-7767-488e-a8bf-27c12dca35bd",
   "metadata": {},
   "outputs": [],
   "source": [
    "# imports\n",
    "\n",
    "import os\n",
    "import requests\n",
    "from dotenv import load_dotenv\n",
    "from bs4 import BeautifulSoup\n",
    "from IPython.display import Markdown, display\n",
    "from openai import OpenAI\n",
    "\n",
    "# If you get an error running this cell, then please head over to the troubleshooting notebook!"
   ]
  },
  {
   "cell_type": "markdown",
   "id": "6900b2a8-6384-4316-8aaa-5e519fca4254",
   "metadata": {},
   "source": [
    "# Connecting to OpenAI\n",
    "\n",
    "The next cell is where we load in the environment variables in your `.env` file and connect to OpenAI.\n",
    "\n",
    "## Troubleshooting if you have problems:\n",
    "\n",
    "Head over to the [troubleshooting](troubleshooting.ipynb) notebook in this folder for step by step code to identify the root cause and fix it!\n",
    "\n",
    "If you make a change, try restarting the \"Kernel\" (the python process sitting behind this notebook) by Kernel menu >> Restart Kernel and Clear Outputs of All Cells. Then try this notebook again, starting at the top.\n",
    "\n",
    "Or, contact me! Message me or email ed@edwarddonner.com and we will get this to work.\n",
    "\n",
    "Any concerns about API costs? See my notes in the README - costs should be minimal, and you can control it at every point. You can also use Ollama as a free alternative, which we discuss during Day 2."
   ]
  },
  {
   "cell_type": "code",
   "execution_count": 2,
   "id": "7b87cadb-d513-4303-baee-a37b6f938e4d",
   "metadata": {},
   "outputs": [
    {
     "name": "stdout",
     "output_type": "stream",
     "text": [
      "API key found and looks good so far!\n"
     ]
    }
   ],
   "source": [
    "# Load environment variables in a file called .env\n",
    "\n",
    "load_dotenv()\n",
    "api_key = os.getenv('OPENAI_API_KEY')\n",
    "\n",
    "# Check the key\n",
    "\n",
    "if not api_key:\n",
    "    print(\"No API key was found - please head over to the troubleshooting notebook in this folder to identify & fix!\")\n",
    "elif not api_key.startswith(\"sk-proj-\"):\n",
    "    print(\"An API key was found, but it doesn't start sk-proj-; please check you're using the right key - see troubleshooting notebook\")\n",
    "elif api_key.strip() != api_key:\n",
    "    print(\"An API key was found, but it looks like it might have space or tab characters at the start or end - please remove them - see troubleshooting notebook\")\n",
    "else:\n",
    "    print(\"API key found and looks good so far!\")\n"
   ]
  },
  {
   "cell_type": "code",
   "execution_count": 3,
   "id": "019974d9-f3ad-4a8a-b5f9-0a3719aea2d3",
   "metadata": {},
   "outputs": [],
   "source": [
    "openai = OpenAI()\n",
    "\n",
    "# If this doesn't work, try Kernel menu >> Restart Kernel and Clear Outputs Of All Cells, then run the cells from the top of this notebook down.\n",
    "# If it STILL doesn't work (horrors!) then please see the troubleshooting notebook, or try the below line instead:\n",
    "# openai = OpenAI(api_key=\"your-key-here-starting-sk-proj-\")"
   ]
  },
  {
   "cell_type": "markdown",
   "id": "442fc84b-0815-4f40-99ab-d9a5da6bda91",
   "metadata": {},
   "source": [
    "# Let's make a quick call to a Frontier model to get started, as a preview!"
   ]
  },
  {
   "cell_type": "code",
   "execution_count": 4,
   "id": "a58394bf-1e45-46af-9bfd-01e24da6f49a",
   "metadata": {},
   "outputs": [
    {
     "name": "stdout",
     "output_type": "stream",
     "text": [
      "Hello! It’s great to hear from you! I’m here to help with any questions or topics you want to discuss. What’s on your mind today?\n"
     ]
    }
   ],
   "source": [
    "# To give you a preview -- calling OpenAI with these messages is this easy:\n",
    "\n",
    "message = \"Hello, GPT! This is my first ever message to you! Hi!\"\n",
    "response = openai.chat.completions.create(model=\"gpt-4o-mini\", messages=[{\"role\":\"user\", \"content\":message}])\n",
    "print(response.choices[0].message.content)"
   ]
  },
  {
   "cell_type": "code",
   "execution_count": 10,
   "id": "2cd31576-1e42-4af6-aeb9-ee55d1bfc992",
   "metadata": {},
   "outputs": [
    {
     "data": {
      "text/plain": [
       "'Hello! It’s great to hear from you! I’m here to help with any questions or topics you want to discuss. What’s on your mind today?'"
      ]
     },
     "execution_count": 10,
     "metadata": {},
     "output_type": "execute_result"
    }
   ],
   "source": [
    "response.choices[0].message.content"
   ]
  },
  {
   "cell_type": "markdown",
   "id": "2aa190e5-cb31-456a-96cc-db109919cd78",
   "metadata": {},
   "source": [
    "## OK onwards with our first project"
   ]
  },
  {
   "cell_type": "code",
   "execution_count": 11,
   "id": "c5e793b2-6775-426a-a139-4848291d0463",
   "metadata": {},
   "outputs": [],
   "source": [
    "# A class to represent a Webpage\n",
    "# If you're not familiar with Classes, check out the \"Intermediate Python\" notebook\n",
    "\n",
    "# Some websites need you to use proper headers when fetching them:\n",
    "headers = {\n",
    " \"User-Agent\": \"Mozilla/5.0 (Windows NT 10.0; Win64; x64) AppleWebKit/537.36 (KHTML, like Gecko) Chrome/117.0.0.0 Safari/537.36\"\n",
    "}\n",
    "\n",
    "class Website:\n",
    "\n",
    "    def __init__(self, url):\n",
    "        \"\"\"\n",
    "        Create this Website object from the given url using the BeautifulSoup library\n",
    "        \"\"\"\n",
    "        self.url = url\n",
    "        response = requests.get(url, headers=headers)\n",
    "        soup = BeautifulSoup(response.content, 'html.parser')\n",
    "        self.title = soup.title.string if soup.title else \"No title found\"\n",
    "        for irrelevant in soup.body([\"script\", \"style\", \"img\", \"input\"]):\n",
    "            irrelevant.decompose()\n",
    "        self.text = soup.body.get_text(separator=\"\\n\", strip=True)"
   ]
  },
  {
   "cell_type": "code",
   "execution_count": 13,
   "id": "2ef960cf-6dc2-4cda-afb3-b38be12f4c97",
   "metadata": {},
   "outputs": [
    {
     "name": "stdout",
     "output_type": "stream",
     "text": [
      "Milad Soltany: Data Scientist and Machine Learning Researcher | Milad Soltany\n",
      "Home\n",
      "Milad's CV\n",
      "Home\n",
      "Milad's CV\n",
      "Milad Soltany\n",
      "Data Scientist and Machine Learning Engineer\n",
      "Milad's CV\n",
      "About Milad\n",
      "Data Scientist and Machine Learning Engineer\n",
      "Experienced Data Scientist and Machine Learning researcher and educator specializing in Computer Vision, Autonomous Vehicles, and Data Science with a strong academic background and extensive teaching experience.\n",
      "I love to teach!\n",
      "Since 2018, I’ve had the privilege of teaching over 2,000 students how to code in Python, guiding them through the fundamentals and advanced concepts of programming. Along with coding, I’ve introduced them to the world of Data Science, Machine Learning, and Deep Learning, helping them build a strong foundation in these rapidly growing fields. My goal has always been to empower students to bring their ideas to life through practical, hands-on learning and to inspire them to explore the vast potential of these technologies.\n",
      "Machine Learning Researcher\n",
      "My work has garnered over 180 citations, reflecting my commitment to advancing knowledge in machine learning, data science, and deep learning through research and education. I also have a Master's degree in AI from Queen's University in Canada =)\n",
      "Experiences\n",
      "Explore my innovative projects in machine learning and data science.\n",
      "MASc in AI - Queen's University\n",
      "Sep 22 - Current | Kingston, ON\n",
      "Currently working on tackling the challenges in\n",
      "Supervised Federated Domain Generalization (FDG)\n",
      "including client heterogeneity as well as inherent model overconfidence.\n",
      "Introduced a model for Unsupervised\n",
      "Federated Domain Generalization\n",
      "and established a theoretical link between domain shift and gradient alignment. Demonstrated superior performance over baselines by aligning gradients at both client and server levels for improved model generalization.\n",
      "Developed TimeHUT, a novel approach for\n",
      "time-series representation learning\n",
      "that dynamically adjusts temperature scheduling to balance uniformity and clustering, resulting in improved performance in time-series classification and\n",
      "anomaly detection\n",
      ".\n",
      "Utilized Queen's HPC and Compute Canada HPC resources to train complex models, ensuring efficient computation and accelerated training times.\n",
      "Managed the\n",
      "GPU clusters\n",
      "in the AIIM lab, ensuring optimal performance and availability for research projects through hardware maintenance, software updates, and resource allocation. Developed scheduling policies to maximize utilization and provided technical support and training to lab members.\n",
      "Instructor at Educate360\n",
      "Feb 23, Aug 24 | Remote based in Boston, MA\n",
      "Worked as an independent contractor to deliver personalized courses to high-end organizations\n",
      "Taught multiple courses, including Introduction to\n",
      "Python, Python for Data Science, and Python for Machine Learning\n",
      "using\n",
      "Numpy, Pandas, Matplotlib, Seaborn and Scikit-learn.\n",
      "Educated over\n",
      "150\n",
      "students in\n",
      "Python\n",
      "and Data Science and Machine Learning from diverse professional backgrounds remotely through online classes based on\n",
      "ZOOM\n",
      ".\n",
      "GRA at Queen's University AutoDrive\n",
      "Jan 23, Jun 24 | Kingston, ON\n",
      "Supervised the perception team, providing guidance and conducting weekly meetings to ensure alignment and progress toward competition goals.\n",
      "Operated as the GRA for the group and developed the necessary modules for the perception challenge including object detection, sensor fusion and distance measurement systems using\n",
      "cameras\n",
      "and\n",
      "lidars\n",
      "Worked closely with the Queen's AutoDrive team in the 2nd and 3rd year of international AutoDrive challenge\n",
      "Lead Computer Vision Engineer and Data Scientist at ISAA\n",
      "[Also known as Zibanegar Hoosh-Afarid]\n",
      "Nov 21, Sep 22 | Remote\n",
      "Designed a digital smile system using\n",
      "diffusion models\n",
      "as part of a collaboration with ISAA.\n",
      "Optimized and deployed generative models on Google Cloud Platform\n",
      "GCP\n",
      "to ensure scalability and high performance.\n",
      "Utilized\n",
      "SQL\n",
      "to query and manage large datasets, enabling efficient data analysis and model training.\n",
      "Conducted weekly meetings to monitor team progress and address any challenges.\n",
      "Collaborated closely with the clients to understand their needs and translate requirements into technical solutions.\n",
      "Contributed to a\n",
      "US patent\n",
      "publication in 2022 as a result of this work.\n",
      "Co-Founder, Instructor and Mentor at AIR Center and Pandas group\n",
      "Co-founded Artificial Intelligence (AIR) and Robotics Center\n",
      "Taught\n",
      "Python, Machine Learning and Data Science, and Deep Learning\n",
      "to over 2000 online students\n",
      "Collaborated to design\n",
      "Python, Machine Learning and Data Science, and Deep Learning\n",
      "courses to be taught at AIR.\n",
      "Taught machine learning and datascience tools and libraries including\n",
      "Numpy, Pandas, Matplotlib, Scikit-Learn, PyTorch and TensorFlow\n",
      "Achieved\n",
      "1st\n",
      "team in the National Rahneshan Competitions for Autonomous Vehicles (Jan 2021)\n",
      "Achieved\n",
      "2nd best\n",
      "team in FIRA Competitions in Autonomous Cars League (Race Section)\n",
      "Achieved\n",
      "3rd best\n",
      "team in FIRA Competitions in Autonomous Cars League (Urban Section)\n",
      "Ranked\n",
      "2nd best\n",
      "team in the national Data Days competitions among more than 140 teams by designing an\n",
      "ad-recommender system\n",
      "Helped design a\n",
      "fully autonomous vehicle\n",
      "based on AVIS engine for the FIRA competitions\n",
      "Collaborated in designing a platform for\n",
      "automatic parallel parking, path planning, path tracking and control\n",
      "July 20, Sep 22 | Tehran\n",
      "Get in Touch with Milad\n",
      "Your First Name\n",
      "Your Email Address*\n",
      "Your Message*\n",
      "Send Your Message\n",
      "Reach out for collaboration or inquiries about machine learning expertise.\n"
     ]
    }
   ],
   "source": [
    "# Let's try one out. Change the website and add print statements to follow along.\n",
    "\n",
    "ed = Website(\"https://miladsoltany.com\")\n",
    "print(ed.title)\n",
    "print(ed.text)"
   ]
  },
  {
   "cell_type": "markdown",
   "id": "6a478a0c-2c53-48ff-869c-4d08199931e1",
   "metadata": {},
   "source": [
    "## Types of prompts\n",
    "\n",
    "You may know this already - but if not, you will get very familiar with it!\n",
    "\n",
    "Models like GPT4o have been trained to receive instructions in a particular way.\n",
    "\n",
    "They expect to receive:\n",
    "\n",
    "**A system prompt** that tells them what task they are performing and what tone they should use\n",
    "\n",
    "**A user prompt** -- the conversation starter that they should reply to"
   ]
  },
  {
   "cell_type": "code",
   "execution_count": 14,
   "id": "abdb8417-c5dc-44bc-9bee-2e059d162699",
   "metadata": {},
   "outputs": [],
   "source": [
    "# Define our system prompt - you can experiment with this later, changing the last sentence to 'Respond in markdown in Spanish.\"\n",
    "\n",
    "system_prompt = \"You are an assistant that analyzes the contents of a website \\\n",
    "and provides a short summary, ignoring text that might be navigation related. \\\n",
    "Respond in markdown.\""
   ]
  },
  {
   "cell_type": "code",
   "execution_count": 15,
   "id": "f0275b1b-7cfe-4f9d-abfa-7650d378da0c",
   "metadata": {},
   "outputs": [],
   "source": [
    "# A function that writes a User Prompt that asks for summaries of websites:\n",
    "\n",
    "def user_prompt_for(website):\n",
    "    user_prompt = f\"You are looking at a website titled {website.title}\"\n",
    "    user_prompt += \"\\nThe contents of this website is as follows; \\\n",
    "please provide a short summary of this website in markdown. \\\n",
    "If it includes news or announcements, then summarize these too.\\n\\n\"\n",
    "    user_prompt += website.text\n",
    "    return user_prompt"
   ]
  },
  {
   "cell_type": "code",
   "execution_count": 16,
   "id": "26448ec4-5c00-4204-baec-7df91d11ff2e",
   "metadata": {},
   "outputs": [
    {
     "name": "stdout",
     "output_type": "stream",
     "text": [
      "You are looking at a website titled Milad Soltany: Data Scientist and Machine Learning Researcher | Milad Soltany\n",
      "The contents of this website is as follows; please provide a short summary of this website in markdown. If it includes news or announcements, then summarize these too.\n",
      "\n",
      "Home\n",
      "Milad's CV\n",
      "Home\n",
      "Milad's CV\n",
      "Milad Soltany\n",
      "Data Scientist and Machine Learning Engineer\n",
      "Milad's CV\n",
      "About Milad\n",
      "Data Scientist and Machine Learning Engineer\n",
      "Experienced Data Scientist and Machine Learning researcher and educator specializing in Computer Vision, Autonomous Vehicles, and Data Science with a strong academic background and extensive teaching experience.\n",
      "I love to teach!\n",
      "Since 2018, I’ve had the privilege of teaching over 2,000 students how to code in Python, guiding them through the fundamentals and advanced concepts of programming. Along with coding, I’ve introduced them to the world of Data Science, Machine Learning, and Deep Learning, helping them build a strong foundation in these rapidly growing fields. My goal has always been to empower students to bring their ideas to life through practical, hands-on learning and to inspire them to explore the vast potential of these technologies.\n",
      "Machine Learning Researcher\n",
      "My work has garnered over 180 citations, reflecting my commitment to advancing knowledge in machine learning, data science, and deep learning through research and education. I also have a Master's degree in AI from Queen's University in Canada =)\n",
      "Experiences\n",
      "Explore my innovative projects in machine learning and data science.\n",
      "MASc in AI - Queen's University\n",
      "Sep 22 - Current | Kingston, ON\n",
      "Currently working on tackling the challenges in\n",
      "Supervised Federated Domain Generalization (FDG)\n",
      "including client heterogeneity as well as inherent model overconfidence.\n",
      "Introduced a model for Unsupervised\n",
      "Federated Domain Generalization\n",
      "and established a theoretical link between domain shift and gradient alignment. Demonstrated superior performance over baselines by aligning gradients at both client and server levels for improved model generalization.\n",
      "Developed TimeHUT, a novel approach for\n",
      "time-series representation learning\n",
      "that dynamically adjusts temperature scheduling to balance uniformity and clustering, resulting in improved performance in time-series classification and\n",
      "anomaly detection\n",
      ".\n",
      "Utilized Queen's HPC and Compute Canada HPC resources to train complex models, ensuring efficient computation and accelerated training times.\n",
      "Managed the\n",
      "GPU clusters\n",
      "in the AIIM lab, ensuring optimal performance and availability for research projects through hardware maintenance, software updates, and resource allocation. Developed scheduling policies to maximize utilization and provided technical support and training to lab members.\n",
      "Instructor at Educate360\n",
      "Feb 23, Aug 24 | Remote based in Boston, MA\n",
      "Worked as an independent contractor to deliver personalized courses to high-end organizations\n",
      "Taught multiple courses, including Introduction to\n",
      "Python, Python for Data Science, and Python for Machine Learning\n",
      "using\n",
      "Numpy, Pandas, Matplotlib, Seaborn and Scikit-learn.\n",
      "Educated over\n",
      "150\n",
      "students in\n",
      "Python\n",
      "and Data Science and Machine Learning from diverse professional backgrounds remotely through online classes based on\n",
      "ZOOM\n",
      ".\n",
      "GRA at Queen's University AutoDrive\n",
      "Jan 23, Jun 24 | Kingston, ON\n",
      "Supervised the perception team, providing guidance and conducting weekly meetings to ensure alignment and progress toward competition goals.\n",
      "Operated as the GRA for the group and developed the necessary modules for the perception challenge including object detection, sensor fusion and distance measurement systems using\n",
      "cameras\n",
      "and\n",
      "lidars\n",
      "Worked closely with the Queen's AutoDrive team in the 2nd and 3rd year of international AutoDrive challenge\n",
      "Lead Computer Vision Engineer and Data Scientist at ISAA\n",
      "[Also known as Zibanegar Hoosh-Afarid]\n",
      "Nov 21, Sep 22 | Remote\n",
      "Designed a digital smile system using\n",
      "diffusion models\n",
      "as part of a collaboration with ISAA.\n",
      "Optimized and deployed generative models on Google Cloud Platform\n",
      "GCP\n",
      "to ensure scalability and high performance.\n",
      "Utilized\n",
      "SQL\n",
      "to query and manage large datasets, enabling efficient data analysis and model training.\n",
      "Conducted weekly meetings to monitor team progress and address any challenges.\n",
      "Collaborated closely with the clients to understand their needs and translate requirements into technical solutions.\n",
      "Contributed to a\n",
      "US patent\n",
      "publication in 2022 as a result of this work.\n",
      "Co-Founder, Instructor and Mentor at AIR Center and Pandas group\n",
      "Co-founded Artificial Intelligence (AIR) and Robotics Center\n",
      "Taught\n",
      "Python, Machine Learning and Data Science, and Deep Learning\n",
      "to over 2000 online students\n",
      "Collaborated to design\n",
      "Python, Machine Learning and Data Science, and Deep Learning\n",
      "courses to be taught at AIR.\n",
      "Taught machine learning and datascience tools and libraries including\n",
      "Numpy, Pandas, Matplotlib, Scikit-Learn, PyTorch and TensorFlow\n",
      "Achieved\n",
      "1st\n",
      "team in the National Rahneshan Competitions for Autonomous Vehicles (Jan 2021)\n",
      "Achieved\n",
      "2nd best\n",
      "team in FIRA Competitions in Autonomous Cars League (Race Section)\n",
      "Achieved\n",
      "3rd best\n",
      "team in FIRA Competitions in Autonomous Cars League (Urban Section)\n",
      "Ranked\n",
      "2nd best\n",
      "team in the national Data Days competitions among more than 140 teams by designing an\n",
      "ad-recommender system\n",
      "Helped design a\n",
      "fully autonomous vehicle\n",
      "based on AVIS engine for the FIRA competitions\n",
      "Collaborated in designing a platform for\n",
      "automatic parallel parking, path planning, path tracking and control\n",
      "July 20, Sep 22 | Tehran\n",
      "Get in Touch with Milad\n",
      "Your First Name\n",
      "Your Email Address*\n",
      "Your Message*\n",
      "Send Your Message\n",
      "Reach out for collaboration or inquiries about machine learning expertise.\n"
     ]
    }
   ],
   "source": [
    "print(user_prompt_for(ed))"
   ]
  },
  {
   "cell_type": "markdown",
   "id": "ea211b5f-28e1-4a86-8e52-c0b7677cadcc",
   "metadata": {},
   "source": [
    "## Messages\n",
    "\n",
    "The API from OpenAI expects to receive messages in a particular structure.\n",
    "Many of the other APIs share this structure:\n",
    "\n",
    "```\n",
    "[\n",
    "    {\"role\": \"system\", \"content\": \"system message goes here\"},\n",
    "    {\"role\": \"user\", \"content\": \"user message goes here\"}\n",
    "]\n",
    "\n",
    "To give you a preview, the next 2 cells make a rather simple call - we won't stretch the might GPT (yet!)"
   ]
  },
  {
   "cell_type": "code",
   "execution_count": 17,
   "id": "f25dcd35-0cd0-4235-9f64-ac37ed9eaaa5",
   "metadata": {},
   "outputs": [],
   "source": [
    "messages = [\n",
    "    {\"role\": \"system\", \"content\": \"You are a snarky assistant\"},\n",
    "    {\"role\": \"user\", \"content\": \"What is 2 + 2?\"}\n",
    "]"
   ]
  },
  {
   "cell_type": "code",
   "execution_count": 18,
   "id": "21ed95c5-7001-47de-a36d-1d6673b403ce",
   "metadata": {},
   "outputs": [
    {
     "name": "stdout",
     "output_type": "stream",
     "text": [
      "Oh, wow, we're starting with the really tough questions, huh? Well, 2 + 2 equals 4. Shocking revelation, I know!\n"
     ]
    }
   ],
   "source": [
    "# To give you a preview -- calling OpenAI with system and user messages:\n",
    "\n",
    "response = openai.chat.completions.create(model=\"gpt-4o-mini\", messages=messages)\n",
    "print(response.choices[0].message.content)"
   ]
  },
  {
   "cell_type": "markdown",
   "id": "d06e8d78-ce4c-4b05-aa8e-17050c82bb47",
   "metadata": {},
   "source": [
    "## And now let's build useful messages for GPT-4o-mini, using a function"
   ]
  },
  {
   "cell_type": "code",
   "execution_count": 19,
   "id": "0134dfa4-8299-48b5-b444-f2a8c3403c88",
   "metadata": {},
   "outputs": [],
   "source": [
    "# See how this function creates exactly the format above\n",
    "\n",
    "def messages_for(website):\n",
    "    return [\n",
    "        {\"role\": \"system\", \"content\": system_prompt},\n",
    "        {\"role\": \"user\", \"content\": user_prompt_for(website)}\n",
    "    ]"
   ]
  },
  {
   "cell_type": "code",
   "execution_count": 20,
   "id": "36478464-39ee-485c-9f3f-6a4e458dbc9c",
   "metadata": {},
   "outputs": [
    {
     "data": {
      "text/plain": [
       "[{'role': 'system',\n",
       "  'content': 'You are an assistant that analyzes the contents of a website and provides a short summary, ignoring text that might be navigation related. Respond in markdown.'},\n",
       " {'role': 'user',\n",
       "  'content': \"You are looking at a website titled Milad Soltany: Data Scientist and Machine Learning Researcher | Milad Soltany\\nThe contents of this website is as follows; please provide a short summary of this website in markdown. If it includes news or announcements, then summarize these too.\\n\\nHome\\nMilad's CV\\nHome\\nMilad's CV\\nMilad Soltany\\nData Scientist and Machine Learning Engineer\\nMilad's CV\\nAbout Milad\\nData Scientist and Machine Learning Engineer\\nExperienced Data Scientist and Machine Learning researcher and educator specializing in Computer Vision, Autonomous Vehicles, and Data Science with a strong academic background and extensive teaching experience.\\nI love to teach!\\nSince 2018, I’ve had the privilege of teaching over 2,000 students how to code in Python, guiding them through the fundamentals and advanced concepts of programming. Along with coding, I’ve introduced them to the world of Data Science, Machine Learning, and Deep Learning, helping them build a strong foundation in these rapidly growing fields. My goal has always been to empower students to bring their ideas to life through practical, hands-on learning and to inspire them to explore the vast potential of these technologies.\\nMachine Learning Researcher\\nMy work has garnered over 180 citations, reflecting my commitment to advancing knowledge in machine learning, data science, and deep learning through research and education. I also have a Master's degree in AI from Queen's University in Canada =)\\nExperiences\\nExplore my innovative projects in machine learning and data science.\\nMASc in AI - Queen's University\\nSep 22 - Current | Kingston, ON\\nCurrently working on tackling the challenges in\\nSupervised Federated Domain Generalization (FDG)\\nincluding client heterogeneity as well as inherent model overconfidence.\\nIntroduced a model for Unsupervised\\nFederated Domain Generalization\\nand established a theoretical link between domain shift and gradient alignment. Demonstrated superior performance over baselines by aligning gradients at both client and server levels for improved model generalization.\\nDeveloped TimeHUT, a novel approach for\\ntime-series representation learning\\nthat dynamically adjusts temperature scheduling to balance uniformity and clustering, resulting in improved performance in time-series classification and\\nanomaly detection\\n.\\nUtilized Queen's HPC and Compute Canada HPC resources to train complex models, ensuring efficient computation and accelerated training times.\\nManaged the\\nGPU clusters\\nin the AIIM lab, ensuring optimal performance and availability for research projects through hardware maintenance, software updates, and resource allocation. Developed scheduling policies to maximize utilization and provided technical support and training to lab members.\\nInstructor at Educate360\\nFeb 23, Aug 24 | Remote based in Boston, MA\\nWorked as an independent contractor to deliver personalized courses to high-end organizations\\nTaught multiple courses, including Introduction to\\nPython, Python for Data Science, and Python for Machine Learning\\nusing\\nNumpy, Pandas, Matplotlib, Seaborn and Scikit-learn.\\nEducated over\\n150\\nstudents in\\nPython\\nand Data Science and Machine Learning from diverse professional backgrounds remotely through online classes based on\\nZOOM\\n.\\nGRA at Queen's University AutoDrive\\nJan 23, Jun 24 | Kingston, ON\\nSupervised the perception team, providing guidance and conducting weekly meetings to ensure alignment and progress toward competition goals.\\nOperated as the GRA for the group and developed the necessary modules for the perception challenge including object detection, sensor fusion and distance measurement systems using\\ncameras\\nand\\nlidars\\nWorked closely with the Queen's AutoDrive team in the 2nd and 3rd year of international AutoDrive challenge\\nLead Computer Vision Engineer and Data Scientist at ISAA\\n[Also known as Zibanegar Hoosh-Afarid]\\nNov 21, Sep 22 | Remote\\nDesigned a digital smile system using\\ndiffusion models\\nas part of a collaboration with ISAA.\\nOptimized and deployed generative models on Google Cloud Platform\\nGCP\\nto ensure scalability and high performance.\\nUtilized\\nSQL\\nto query and manage large datasets, enabling efficient data analysis and model training.\\nConducted weekly meetings to monitor team progress and address any challenges.\\nCollaborated closely with the clients to understand their needs and translate requirements into technical solutions.\\nContributed to a\\nUS patent\\npublication in 2022 as a result of this work.\\nCo-Founder, Instructor and Mentor at AIR Center and Pandas group\\nCo-founded Artificial Intelligence (AIR) and Robotics Center\\nTaught\\nPython, Machine Learning and Data Science, and Deep Learning\\nto over 2000 online students\\nCollaborated to design\\nPython, Machine Learning and Data Science, and Deep Learning\\ncourses to be taught at AIR.\\nTaught machine learning and datascience tools and libraries including\\nNumpy, Pandas, Matplotlib, Scikit-Learn, PyTorch and TensorFlow\\nAchieved\\n1st\\nteam in the National Rahneshan Competitions for Autonomous Vehicles (Jan 2021)\\nAchieved\\n2nd best\\nteam in FIRA Competitions in Autonomous Cars League (Race Section)\\nAchieved\\n3rd best\\nteam in FIRA Competitions in Autonomous Cars League (Urban Section)\\nRanked\\n2nd best\\nteam in the national Data Days competitions among more than 140 teams by designing an\\nad-recommender system\\nHelped design a\\nfully autonomous vehicle\\nbased on AVIS engine for the FIRA competitions\\nCollaborated in designing a platform for\\nautomatic parallel parking, path planning, path tracking and control\\nJuly 20, Sep 22 | Tehran\\nGet in Touch with Milad\\nYour First Name\\nYour Email Address*\\nYour Message*\\nSend Your Message\\nReach out for collaboration or inquiries about machine learning expertise.\"}]"
      ]
     },
     "execution_count": 20,
     "metadata": {},
     "output_type": "execute_result"
    }
   ],
   "source": [
    "# Try this out, and then try for a few more websites\n",
    "\n",
    "messages_for(ed)"
   ]
  },
  {
   "cell_type": "markdown",
   "id": "16f49d46-bf55-4c3e-928f-68fc0bf715b0",
   "metadata": {},
   "source": [
    "## Time to bring it together - the API for OpenAI is very simple!"
   ]
  },
  {
   "cell_type": "code",
   "execution_count": 21,
   "id": "905b9919-aba7-45b5-ae65-81b3d1d78e34",
   "metadata": {},
   "outputs": [],
   "source": [
    "# And now: call the OpenAI API. You will get very familiar with this!\n",
    "\n",
    "def summarize(url):\n",
    "    website = Website(url)\n",
    "    response = openai.chat.completions.create(\n",
    "        model = \"gpt-4o-mini\",\n",
    "        messages = messages_for(website)\n",
    "    )\n",
    "    return response.choices[0].message.content"
   ]
  },
  {
   "cell_type": "code",
   "execution_count": 22,
   "id": "05e38d41-dfa4-4b20-9c96-c46ea75d9fb5",
   "metadata": {},
   "outputs": [
    {
     "data": {
      "text/plain": [
       "\"# Milad Soltany: Data Scientist and Machine Learning Researcher\\n\\nMilad Soltany is a seasoned Data Scientist and Machine Learning Engineer with a strong background in education and research, particularly in the fields of Computer Vision, Autonomous Vehicles, and Data Science. Since 2018, Milad has taught over 2,000 students coding in Python and introduced them to Data Science and Machine Learning, emphasizing hands-on, practical learning experiences.\\n\\n## Academic and Professional Background\\n\\n- **Current Studies**: Pursuing a MASc in AI at Queen's University, where Milad is addressing challenges in supervised federated domain generalization and developing innovative approaches for time-series representation learning.\\n- **Research Contributions**: Milad's work has received over 180 citations and has led to the development of unsupervised federated learning models and time-series classification techniques.\\n- **Teaching Roles**: An instructor at Educate360, teaching Python and Machine Learning to diverse professional backgrounds, and co-founder of the Artificial Intelligence and Robotics Center where extensive courses on these subjects are taught.\\n\\n## Selected Experiences\\n\\n- **AutoDrive Team**: As a Graduate Research Assistant, supervised the perception team while contributing to object detection and sensor fusion systems.\\n- **ISAA**: Worked as a Lead Computer Vision Engineer on projects involving generative models and contributed to a US patent related to a digital smile system.\\n- **Competitions**: Achievements include winning several national competitions in autonomous vehicles and data science.\\n\\nThe website serves as a professional portfolio highlighting Milad’s teaching philosophy, research initiatives, and collaborative efforts in machine learning, along with providing a way to get in touch for inquiries and collaborations.\""
      ]
     },
     "execution_count": 22,
     "metadata": {},
     "output_type": "execute_result"
    }
   ],
   "source": [
    "summarize(\"https://miladsoltany.com\")"
   ]
  },
  {
   "cell_type": "code",
   "execution_count": 23,
   "id": "3d926d59-450e-4609-92ba-2d6f244f1342",
   "metadata": {},
   "outputs": [],
   "source": [
    "# A function to display this nicely in the Jupyter output, using markdown\n",
    "\n",
    "def display_summary(url):\n",
    "    summary = summarize(url)\n",
    "    display(Markdown(summary))"
   ]
  },
  {
   "cell_type": "code",
   "execution_count": 24,
   "id": "3018853a-445f-41ff-9560-d925d1774b2f",
   "metadata": {},
   "outputs": [
    {
     "data": {
      "text/markdown": [
       "# Milad Soltany: Data Scientist and Machine Learning Researcher\n",
       "\n",
       "Milad Soltany is an experienced Data Scientist and Machine Learning Engineer with a specialization in Computer Vision, Autonomous Vehicles, and Data Science. With a strong academic background, including a Master’s degree in AI from Queen's University, Milad has made significant contributions to machine learning research, accumulating over 180 citations. He has a passion for teaching, having educated over 2,000 students on coding in Python and guiding them through Data Science and Machine Learning concepts.\n",
       "\n",
       "## Key Experiences\n",
       "\n",
       "- **Current Role:** Graduate Research Assistant (GRA) at Queen's University AutoDrive, focusing on Supervised Federated Domain Generalization and developing models for time-series representation learning.\n",
       "  \n",
       "- **Teaching:** Instructor at Educate360, delivering personalized Python and Data Science courses remotely to over 150 students from diverse backgrounds.\n",
       "\n",
       "- **Previous Roles:**\n",
       "  - Led the perception team in the Queen's AutoDrive project, involving object detection and sensor fusion.\n",
       "  - Served as Lead Computer Vision Engineer and Data Scientist at ISAA, contributing to a digital smile system and a US patent publication.\n",
       "  - Co-founded the Artificial Intelligence and Robotics Center, teaching various data science topics and achieving notable rankings in competitions.\n",
       "\n",
       "## Notable Achievements\n",
       "\n",
       "- Secured top rankings in national and international competitions in autonomous vehicles and data science.\n",
       "- Designed innovative approaches for time-series classification and anomaly detection, significantly improving model performance.\n",
       "\n",
       "Milad is open to collaborations and inquiries related to machine learning expertise."
      ],
      "text/plain": [
       "<IPython.core.display.Markdown object>"
      ]
     },
     "metadata": {},
     "output_type": "display_data"
    }
   ],
   "source": [
    "display_summary(\"https://miladsoltany.com\")"
   ]
  },
  {
   "cell_type": "markdown",
   "id": "b3bcf6f4-adce-45e9-97ad-d9a5d7a3a624",
   "metadata": {},
   "source": [
    "# Let's try more websites\n",
    "\n",
    "Note that this will only work on websites that can be scraped using this simplistic approach.\n",
    "\n",
    "Websites that are rendered with Javascript, like React apps, won't show up. See the community-contributions folder for a Selenium implementation that gets around this. You'll need to read up on installing Selenium (ask ChatGPT!)\n",
    "\n",
    "Also Websites protected with CloudFront (and similar) may give 403 errors - many thanks Andy J for pointing this out.\n",
    "\n",
    "But many websites will work just fine!"
   ]
  },
  {
   "cell_type": "code",
   "execution_count": 25,
   "id": "45d83403-a24c-44b5-84ac-961449b4008f",
   "metadata": {},
   "outputs": [
    {
     "data": {
      "text/markdown": [
       "# Summary of CNN Website\n",
       "\n",
       "The CNN website provides up-to-date news and video content across various categories, including:\n",
       "\n",
       "- **Top Stories**: Highlights include coverage on significant global events such as the Ukraine-Russia War and the Israel-Hamas War.\n",
       "- **US News**: Current events in the US are covered, including political updates, health issues, and notable crime reports.\n",
       "- **World News**: Coverage extends to international affairs, with mentions of specific countries like Syria and China.\n",
       "- **Politics**: Analysis on recent political developments, including insights into the 2024 elections and commentary on current leadership.\n",
       "- **Health**: Articles addressing health trends and studies, including dietary impacts and mental health during the holidays.\n",
       "- **Entertainment**: Updates on celebrity news and popular culture, including music and film developments.\n",
       "\n",
       "### Notable Announcements:\n",
       "- **Ukraine-Russia War**: Reports on Russia's attacks on Ukraine’s energy sector.\n",
       "- **US Military Statistics**: Decline in sexual assaults reported at military academies.\n",
       "- **Political Developments**: Discussions surrounding Trump's policies and the ongoing situation in Syria.\n",
       "\n",
       "### Additional Features:\n",
       "- The site offers live updates, video content, and access to podcasts covering a wide array of topics from politics to health and entertainment.\n",
       "\n",
       "CNN aims to inform viewers with a comprehensive array of news coverage, analysis, and multimedia content appealing to a diverse audience."
      ],
      "text/plain": [
       "<IPython.core.display.Markdown object>"
      ]
     },
     "metadata": {},
     "output_type": "display_data"
    }
   ],
   "source": [
    "display_summary(\"https://cnn.com\")"
   ]
  },
  {
   "cell_type": "code",
   "execution_count": 26,
   "id": "75e9fd40-b354-4341-991e-863ef2e59db7",
   "metadata": {},
   "outputs": [
    {
     "data": {
      "text/markdown": [
       "# Anthropic Website Summary\n",
       "\n",
       "Anthropic is an AI research and safety company based in San Francisco, focused on creating reliable and beneficial AI systems. The company emphasizes safety as a core principle in its research and products. \n",
       "\n",
       "## Key Offerings\n",
       "- **Claude**: Their leading AI model, with the latest version being Claude 3.5 Sonnet. \n",
       "- **API**: Provides tools to integrate Claude into various applications to enhance efficiency and generate revenue.\n",
       "- **Enterprise Solutions**: Tailored offerings for business clients.\n",
       "\n",
       "## Recent Announcements\n",
       "- **October 22, 2024**: Introduction of two AI models, Claude 3.5 Sonnet and Claude 3.5 Haiku, aimed at enhancing computer use and overall AI capabilities.\n",
       "- **Product Launch**: Focus on Claude for Enterprise as a part of their ongoing development.\n",
       "\n",
       "## Research Initiatives\n",
       "In addition to product development, Anthropic is engaged in various research projects, including:\n",
       "- **Constitutional AI**: Aiming for harmless AI through user feedback (reported on Dec 15, 2022).\n",
       "- **AI Safety Guidelines**: Core views on AI safety discussed in a publication (March 8, 2023).\n",
       "\n",
       "The website also includes sections on their team, careers, and company information, offering insights into their interdisciplinary approach combining machine learning, policy, and physics."
      ],
      "text/plain": [
       "<IPython.core.display.Markdown object>"
      ]
     },
     "metadata": {},
     "output_type": "display_data"
    }
   ],
   "source": [
    "display_summary(\"https://anthropic.com\")"
   ]
  },
  {
   "cell_type": "markdown",
   "id": "c951be1a-7f1b-448f-af1f-845978e47e2c",
   "metadata": {},
   "source": [
    "<table style=\"margin: 0; text-align: left;\">\n",
    "    <tr>\n",
    "        <td style=\"width: 150px; height: 150px; vertical-align: middle;\">\n",
    "            <img src=\"../business.jpg\" width=\"150\" height=\"150\" style=\"display: block;\" />\n",
    "        </td>\n",
    "        <td>\n",
    "            <h2 style=\"color:#181;\">Business applications</h2>\n",
    "            <span style=\"color:#181;\">In this exercise, you experienced calling the Cloud API of a Frontier Model (a leading model at the frontier of AI) for the first time. We will be using APIs like OpenAI at many stages in the course, in addition to building our own LLMs.\n",
    "\n",
    "More specifically, we've applied this to Summarization - a classic Gen AI use case to make a summary. This can be applied to any business vertical - summarizing the news, summarizing financial performance, summarizing a resume in a cover letter - the applications are limitless. Consider how you could apply Summarization in your business, and try prototyping a solution.</span>\n",
    "        </td>\n",
    "    </tr>\n",
    "</table>\n",
    "\n",
    "<table style=\"margin: 0; text-align: left;\">\n",
    "    <tr>\n",
    "        <td style=\"width: 150px; height: 150px; vertical-align: middle;\">\n",
    "            <img src=\"../important.jpg\" width=\"150\" height=\"150\" style=\"display: block;\" />\n",
    "        </td>\n",
    "        <td>\n",
    "            <h2 style=\"color:#900;\">Before you continue - now try yourself</h2>\n",
    "            <span style=\"color:#900;\">Use the cell below to make your own simple commercial example. Stick with the summarization use case for now. Here's an idea: write something that will take the contents of an email, and will suggest an appropriate short subject line for the email. That's the kind of feature that might be built into a commercial email tool.</span>\n",
    "        </td>\n",
    "    </tr>\n",
    "</table>"
   ]
  },
  {
   "cell_type": "code",
   "execution_count": null,
   "id": "00743dac-0e70-45b7-879a-d7293a6f68a6",
   "metadata": {},
   "outputs": [],
   "source": [
    "# Step 1: Create your prompts\n",
    "\n",
    "system_prompt = \"something here\"\n",
    "user_prompt = \"\"\"\n",
    "    Lots of text\n",
    "    Can be pasted here\n",
    "\"\"\"\n",
    "\n",
    "# Step 2: Make the messages list\n",
    "\n",
    "messages = [] # fill this in\n",
    "\n",
    "# Step 3: Call OpenAI\n",
    "\n",
    "response =\n",
    "\n",
    "# Step 4: print the result\n",
    "\n",
    "print("
   ]
  },
  {
   "cell_type": "markdown",
   "id": "36ed9f14-b349-40e9-a42c-b367e77f8bda",
   "metadata": {},
   "source": [
    "## An extra exercise for those who enjoy web scraping\n",
    "\n",
    "You may notice that if you try `display_summary(\"https://openai.com\")` - it doesn't work! That's because OpenAI has a fancy website that uses Javascript. There are many ways around this that some of you might be familiar with. For example, Selenium is a hugely popular framework that runs a browser behind the scenes, renders the page, and allows you to query it. If you have experience with Selenium, Playwright or similar, then feel free to improve the Website class to use them. In the community-contributions folder, you'll find an example Selenium solution from a student (thank you!)"
   ]
  },
  {
   "cell_type": "markdown",
   "id": "eeab24dc-5f90-4570-b542-b0585aca3eb6",
   "metadata": {},
   "source": [
    "# Sharing your code\n",
    "\n",
    "I'd love it if you share your code afterwards so I can share it with others! You'll notice that some students have already made changes (including a Selenium implementation) which you will find in the community-contributions folder. If you'd like add your changes to that folder, submit a Pull Request with your new versions in that folder and I'll merge your changes.\n",
    "\n",
    "If you're not an expert with git (and I am not!) then GPT has given some nice instructions on how to submit a Pull Request. It's a bit of an involved process, but once you've done it once it's pretty clear. As a pro-tip: it's best if you clear the outputs of your Jupyter notebooks (Edit >> Clean outputs of all cells, and then Save) for clean notebooks.\n",
    "\n",
    "PR instructions courtesy of an AI friend: https://chatgpt.com/share/670145d5-e8a8-8012-8f93-39ee4e248b4c"
   ]
  },
  {
   "cell_type": "code",
   "execution_count": null,
   "id": "682eff74-55c4-4d4b-b267-703edbc293c7",
   "metadata": {},
   "outputs": [],
   "source": []
  }
 ],
 "metadata": {
  "kernelspec": {
   "display_name": "Python 3 (ipykernel)",
   "language": "python",
   "name": "python3"
  },
  "language_info": {
   "codemirror_mode": {
    "name": "ipython",
    "version": 3
   },
   "file_extension": ".py",
   "mimetype": "text/x-python",
   "name": "python",
   "nbconvert_exporter": "python",
   "pygments_lexer": "ipython3",
   "version": "3.11.11"
  }
 },
 "nbformat": 4,
 "nbformat_minor": 5
}
